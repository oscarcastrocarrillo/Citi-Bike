{
 "cells": [
  {
   "cell_type": "code",
   "execution_count": null,
   "metadata": {},
   "outputs": [],
   "source": [
    "import matplotlib.pyplot as plt\n",
    "%matplotlib inline\n",
    "import matplotlib.mlab as mlab\n",
    "import plotly as py\n",
    "import plotly.graph_objects as go\n",
    "import plotly.express as px\n",
    "import seaborn as sns \n",
    "import pandas as pd\n",
    "import statsmodels.api as sm\n",
    "import numpy as np\n",
    "import statistics as stats"
   ]
  },
  {
   "cell_type": "code",
   "execution_count": null,
   "metadata": {},
   "outputs": [],
   "source": [
    "from sklearn import metrics\n",
    "from sklearn import model_selection\n",
    "from sklearn.linear_model import LinearRegression\n",
    "from sklearn.linear_model import Ridge\n",
    "from sklearn.linear_model import Lasso\n",
    "from sklearn.linear_model import ElasticNet\n",
    "from sklearn.neighbors import KNeighborsRegressor\n",
    "from sklearn.tree import DecisionTreeRegressor\n",
    "from sklearn.svm import SVR\n",
    "from sklearn.ensemble import RandomForestRegressor\n",
    "from sklearn.metrics import r2_score\n",
    "from sklearn.model_selection import train_test_split\n",
    "from sklearn.metrics import mean_squared_error\n",
    "from math import sqrt\n",
    "%matplotlib inline"
   ]
  },
  {
   "cell_type": "code",
   "execution_count": null,
   "metadata": {},
   "outputs": [],
   "source": [
    "df_0620 = pd.read_csv('0620.csv', header=0)\n",
    "df_0520 = pd.read_csv('0520.csv', header=0)\n",
    "df_0420 = pd.read_csv('0420.csv', header=0)\n",
    "df_0320 = pd.read_csv('0320.csv', header=0)\n",
    "df_0220 = pd.read_csv('0220.csv', header=0)\n",
    "df_0120 = pd.read_csv('0120.csv', header=0)\n",
    "df_1219 = pd.read_csv('1219.csv', header=0)\n",
    "df_1119 = pd.read_csv('1119.csv', header=0)\n",
    "df_1019 = pd.read_csv('1019.csv', header=0)\n",
    "df_0919 = pd.read_csv('0919.csv', header=0)\n",
    "df_0819 = pd.read_csv('0819.csv', header=0)\n",
    "df_0719 = pd.read_csv('0719.csv', header=0)\n",
    "\n",
    "df_master = pd.concat([df_0719, df_0819, df_0919, df_1019, df_1119, df_1219, df_0120, df_0220, df_0320, df_0420, df_0520, df_0620])\n",
    "\n",
    "#(df_master.head())"
   ]
  },
  {
   "cell_type": "markdown",
   "metadata": {},
   "source": [
    "# Citi Bike, Jersey City Data\n",
    "\n",
    "## Motivation \n",
    "\n",
    "We have started this analysis looking for ridership patterns that would allow us understand the reliability and importance of Citi Bikes as a mode of transportation in Jersey City. Originally, we were looking to work directly with New York City data, however, it is a significantly larger dataset as users make about 1.5M trips in NYC every month compared to approximately 31K trips in Jersey City. \n",
    "\n",
    "Our dataset is comprised of 12 months of data from July 2019 to June 2020. The data is publicly available and published directly from Citi Bike at https://www.citibikenyc.com/system-data. \n",
    "\n",
    "Each row is a trip and we have different types of data such as:\n",
    "><b>-Trip duration</b> (in seconds)<br>\n",
    "<b>-Trip start and end time</b> (datestamp)<br>\n",
    "<b>-Start and end station name/id</b><br>\n",
    "<b>-Coordinates of starting and ending stations</b><br>\n",
    "<b>-Bikeid</b> which is the individual registry of the bike on Citi Bike systems<br>\n",
    "<b>-Usertype:</b> Subscriber or Customer. Annual subscriptions cost \\\\$179 and customers get unlimited 45 rides. Customers can either pay \\\\$3 for a single trip, or \\\\$12 per day of unlimited 30 minute rides in 24 hours.<br>\n",
    "<b>-Demographics</b> such as gender (0=Unknwown, 1=Male, 2=Female), and birth year<br>\n",
    "\n",
    "We have added a few columns for visualization purposes such as duration in minutes, month of the year, day of the week, and hour of the day."
   ]
  },
  {
   "cell_type": "code",
   "execution_count": null,
   "metadata": {},
   "outputs": [],
   "source": [
    "df = df_master\n",
    "\n",
    "df_master['starttime'] = pd.to_datetime(df_master['starttime'])\n",
    "\n",
    "month = df_master['starttime'].dt.month_name()\n",
    "df_master['month'] = month\n",
    "#print(month)\n",
    "\n",
    "weekday = df['starttime'].dt.day_name()\n",
    "df_master['weekday'] = weekday\n",
    "#print(weekday)\n",
    "\n",
    "#df['starttime'] = pd.to_datetime(df['starttime'])\n",
    "hour = df['starttime'].dt.hour\n",
    "df_master['hour'] = hour\n",
    "#print(hour)\n",
    "\n",
    "#print(df_master.head())\n",
    "#df_master.columns\n",
    "df_master.isna().mean()"
   ]
  },
  {
   "cell_type": "markdown",
   "metadata": {},
   "source": [
    "# How clean is our data?\n",
    "\n",
    "The first part of our analysis was to check for missing values. The .isna() function was an efficient way of knowing if we were missing values, as it returns the percentage of N/A values in a column. As we can see, we are not missing any data in our columns."
   ]
  },
  {
   "cell_type": "code",
   "execution_count": null,
   "metadata": {
    "scrolled": false
   },
   "outputs": [],
   "source": [
    "duration_minutes = df_master['tripduration']/60\n",
    "df_master['duration_minutes'] = duration_minutes #add trip duration column in minutes\n",
    "\n",
    "duration_hours = df_master['duration_minutes']/60\n",
    "df_master['duration_hours'] = duration_hours #add trip duration column in hours\n",
    "\n",
    "duration_days = df_master['duration_hours']/24 #add trip duration column in days\n",
    "df_master['duration_days'] = duration_days\n",
    "\n",
    "print(df_master.tripduration.describe())\n",
    "print('===================================')\n",
    "print(df_master.duration_minutes.describe())\n",
    "print('===================================')\n",
    "print(df_master.duration_hours.describe())\n",
    "print('===================================')\n",
    "print(df_master.duration_days.describe())\n",
    "print('===================================')\n",
    "print(df_master['birth year'].describe())\n",
    "print('Dataframe shape is', df_master.shape)"
   ]
  },
  {
   "cell_type": "markdown",
   "metadata": {},
   "source": [
    "# Exploratory Data Analysis (EDA)\n",
    "\n",
    "We started our EDA by doing descriptive statistics in order to understand some of the most important information about our data. \n",
    "\n",
    "We see that the 'tripduration' column is not easy to visualize as it is measured in seconds. Therefore, we decided to convert it to minutes. Immediately we realized that the MAX value is extremely high as it converts to 29 days! Although we have no way of knowing from this data, we can easily assume this datapoint is incorrect and should be treated as an outlier that should be removed. For the sake of analysis, we will proceed without removing outliers as the datapoints may be attached to other important information. We also can see that our mean, and standard deviation are being influenced by the outliers, therefore we will be paying less attention to those values for now. \n",
    "\n",
    "We are also aware that birth year contains several outliers as the MIN value is 1887, we will also be keeping these outliers for visualization purposes and as the rest of the data may be valid. "
   ]
  },
  {
   "cell_type": "code",
   "execution_count": null,
   "metadata": {},
   "outputs": [],
   "source": [
    "birthyear = df_master['birth year']\n",
    "Q1 = birthyear.quantile(.25)\n",
    "Q3 = birthyear.quantile(.75)\n",
    "IQR = Q3 - Q1\n",
    "(IQR)\n",
    "\n",
    "print('Gender: 0 = Unknown, 1 = Male, 2 = Female')\n",
    "#print('Q3 value is', Q3)\n",
    "#print('Q1 value is', Q1)\n",
    "#print('The IQR is', IQR)\n",
    "fig = px.box(df_master, x='gender', y='birth year', color='usertype', title='Boxplots by gender, birth year, usertype')\n",
    "fig.show()"
   ]
  },
  {
   "cell_type": "markdown",
   "metadata": {},
   "source": [
    "# Visualizing Outliers\n",
    "\n",
    "Based on these boxplots, we see that we have a large number of outliers, this may be due to people choosing not to disclose their real age. We also see a third gender for people who chose not to disclose their information or may simply not identify as male or female.\n",
    "\n",
    "As mentioned above, we won't be removing these outliers as the rest of the information may be valid."
   ]
  },
  {
   "cell_type": "code",
   "execution_count": null,
   "metadata": {
    "scrolled": false
   },
   "outputs": [],
   "source": [
    "fig = px.histogram(df_master, x='birth year', color='usertype', title='Histogram by birth year and user type', opacity=0.75)\n",
    "fig.show()"
   ]
  },
  {
   "cell_type": "markdown",
   "metadata": {},
   "source": [
    "# Visualizing Data Distribution\n",
    "\n",
    "On the histogram above, we see that the data distribution is skewed to the left. This is mostly driven by the large amount of erroneous birth years. We also notice the spike of rides where the user claims their birth year is '1969'. If we were to ignore the birth years prior to 1970, we could see a more bell-shaped distribution and get a better idea of who the riders actually are. "
   ]
  },
  {
   "cell_type": "code",
   "execution_count": null,
   "metadata": {},
   "outputs": [],
   "source": [
    "#need to fix legend\n",
    "\n",
    "dict={\"0\": \"Unknown\", \"1\": \"Male\", \"2\": \"Female\"}\n",
    "print('Gender: 0 = Unknown, 1 = Male, 2 = Female')\n",
    "fig = px.histogram(df_master, x='usertype', color=\"gender\", title=\"Histogram by usertype and gender\")\n",
    "fig.show()"
   ]
  },
  {
   "cell_type": "markdown",
   "metadata": {},
   "source": [
    "# What type of users does Citi Bike have?\n",
    "\n",
    "As mentioned earlier, Citi Bike has two types of users, Subscribers and Customers. \n",
    "\n",
    "Citi Bike's users in Jersey City are mostly Subscribers. Please note this doesn't mean Citi Bike has over 300K subscribers, it only means subscribers have taken more than 300K <i>rides</i>, which represents about 82% of total ridership during July 2019 and June 2020.\n",
    "\n",
    "On the other hand, we see that customers are a small portion of the rides. It would be interesting to see the difference in revenue from Subscribers compared to Customers. Unfortunately that data is not provided by Citi Bike (or at least not that I am aware of) but it would be interesting to pursue as next steps if it is, and analyze the revenue drivers of Citi Bike. \n",
    "\n",
    "To summarize in a quick insight from this chart, <b>82% of rides started in Jersey City are taken by Citi Bike's Subscribers.</b>"
   ]
  },
  {
   "cell_type": "code",
   "execution_count": null,
   "metadata": {},
   "outputs": [],
   "source": [
    "fig = px.histogram(df_master, x='month', title='Rides by month', color='usertype')\n",
    "fig.show()"
   ]
  },
  {
   "cell_type": "markdown",
   "metadata": {},
   "source": [
    "# Which months are the busiest for Citi Bike\n",
    "\n",
    "This information could be helpful for Citi Bike managers trying to understand when to expect an influx of rides, and therefore, expect a higher need for additional staff members in order to keep Citi Bike running.\n",
    "\n",
    "As one may expect, most rides are taken during the nice weather months of July through October, while ridership decreased by 38% in the months of November through March. \n",
    "\n",
    "April had a very small number of riders in 2020 which can potentially correlate with the strict lockdowns due to COVID-19. It would be interesting to see as next steps how April 2020 was different for riders than the month of April in previous years. \n",
    "\n",
    "May and June had an interesting approach as customers increased ridership compared to previous months. Conventional wisdom may tell us that tourists drive the number of customer rides in the summer months. However, tourism in NYC and Jersey City should have decreased in those months in 2020. Perhaps, as locals were less likely to use other vehicles such as cars or subways, they turned to Citi Bike as it can be a fairly safe mode of transportation as long as you take the necessary precautions. \n",
    "\n",
    "A separate analysis that compares the months of May through July for 2019 and 2020, shows that <b>ridership by customers increased by 1.82 times in 2020 while subscribers ridership decreased by about 45%</b> <i>(Nathan: Do you know how I can reference this?, the analysis was made by me in a different Jupyter notebook.)</i>\n",
    "\n",
    "As next steps, it would be interesting to see how this shifts and what the future of mobility in NYC and metropolitan area would look like. "
   ]
  },
  {
   "cell_type": "code",
   "execution_count": null,
   "metadata": {},
   "outputs": [],
   "source": [
    "fig = px.histogram(df_master, x='weekday', title='Rides by weekday', color='usertype')\n",
    "fig.show()"
   ]
  },
  {
   "cell_type": "markdown",
   "metadata": {},
   "source": [
    "# What days are Citi Bikes used the most?\n",
    "\n",
    "Subscribers used the bikes mostly between Monday and Friday, and less over the weekends. \n",
    "Customers used the bikes mostly on the weekends. \n",
    "\n",
    "Conventional wisdom tells us that <b>Subscribers are more likely to use Citi Bike to commute and customers may use it more for recreational purposes.</b>"
   ]
  },
  {
   "cell_type": "code",
   "execution_count": null,
   "metadata": {},
   "outputs": [],
   "source": [
    "#fig = px.histogram(df_master, x='hour', title='Rides by hour', color='usertype')\n",
    "#fig.show()"
   ]
  },
  {
   "cell_type": "markdown",
   "metadata": {},
   "source": [
    "# Drill down to hours\n",
    "\n",
    "Drilling down, the hours Citi Bikes are used the most depend on the type of user, we found a pattern that may support our previous point. <b>Subscribers are riding Citi Bikes mostly at 8 AM and 6 PM</b>, while <b>Customers use it more often between the afternoon and early evening.</b> "
   ]
  },
  {
   "cell_type": "code",
   "execution_count": null,
   "metadata": {},
   "outputs": [],
   "source": [
    "fig = px.pie(df_master, names='start station name', title='Bike Stations by % of total trips started')\n",
    "fig.update_traces(textposition='inside')\n",
    "fig.update_layout(uniformtext_minsize=12, uniformtext_mode='hide')\n",
    "fig.show()"
   ]
  },
  {
   "cell_type": "code",
   "execution_count": null,
   "metadata": {},
   "outputs": [],
   "source": [
    "fig = px.pie(df_master, names='end station name', title='Bike Stations by % of total trips ended')\n",
    "fig.update_traces(textposition='inside')\n",
    "fig.update_layout(uniformtext_minsize=12, uniformtext_mode='hide')\n",
    "fig.show()"
   ]
  },
  {
   "cell_type": "markdown",
   "metadata": {},
   "source": [
    "# What stations are used the most?\n",
    "\n",
    "The pie charts above show us the percentage of rides started from and ended at specific bike stations. We see that <b>Grove St. PATH and Hamilton Park were the two stations where most rides were started from,</b> with a difference of about <b>15K more rides being taken from Grove St. PATH compared to Hamilton Park</b>\n",
    "\n",
    "On the second pie chart we see that <b>12.4% rides (46k rides) end at Grove St. PATH.</b>\n",
    "\n",
    "This information could be valuable to operations managers whose job is to make sure the appropriate balance of bikes is achieved, otherwise a consumer could be turned away and use a different mode of transportation which would mean less revenue earned by Citi Bike. As next steps, we could look at the hourly patterns of specific stations to see when to expect higher demand and proactively rebalance the number of bikes."
   ]
  },
  {
   "cell_type": "code",
   "execution_count": null,
   "metadata": {
    "scrolled": false
   },
   "outputs": [],
   "source": [
    "start_station = df_master['start station name']\n",
    "#print(start_station)\n",
    "end_station = df_master['end station name']\n",
    "#print(end_station)\n",
    "\n",
    "df_master['most frequent trips'] = start_station + ' to '+ end_station\n",
    "#print(df_master.head())\n",
    "trips1 = df_master.groupby(['start station name', 'start station id', 'end station name', 'end station id', 'most frequent trips']).size().reset_index(name = 'number of trips')\n",
    "\n",
    "trips_desc1 = trips1.sort_values('number of trips', ascending=False)\n",
    "trips_desc = (trips_desc1.head(10).reset_index())\n",
    "#trips_desc"
   ]
  },
  {
   "cell_type": "code",
   "execution_count": null,
   "metadata": {},
   "outputs": [],
   "source": [
    "#x=trips_desc['number of trips']\n",
    "#y=trips_desc['most frequent trips']\n",
    "\n",
    "#fig = go.Figure(go.Bar(x=x, y=y, orientation='h'))\n",
    "\n",
    "#fig.update_layout(title='Top 10 most frequent trips',\n",
    "#                  xaxis_title='number of trips',\n",
    "#                  yaxis_title='trips',\n",
    "#                  yaxis={'categoryorder':'total ascending'})\n",
    "#fig.show()"
   ]
  },
  {
   "cell_type": "markdown",
   "metadata": {},
   "source": [
    "# Where are people going?\n",
    "\n",
    "No way of knowing for sure, however, we can tell you the routes that were taken the most. Turns out Hamilton Park to Grove St. PATH, is about .7 miles and there is a PATH train station nearby. For those of us that don't live in NYC and metropolitan area, PATH is the Port Authority Trans-Hudson train system that connects northern New Jersey and Lower and Midtown Manhattan. Interestingly enough, <b>6 of the 10 most common routes end at Grove St. PATH.</b>"
   ]
  },
  {
   "cell_type": "code",
   "execution_count": null,
   "metadata": {},
   "outputs": [],
   "source": [
    "Grove_st_PATH = df_master['start station name'] == 'Grove St PATH' #creates filter by station name\n",
    "#print(Grove_st_PATH.head())\n",
    "\n",
    "Grove_st_PATH = df_master[Grove_st_PATH] #applies filter to the df \n",
    "#(Grove_st_PATH)"
   ]
  },
  {
   "cell_type": "code",
   "execution_count": null,
   "metadata": {},
   "outputs": [],
   "source": [
    "fig = px.histogram(Grove_st_PATH, x='hour', title='Rides by hour from Groves St. PATH', color='usertype')\n",
    "#fig.show()"
   ]
  },
  {
   "cell_type": "code",
   "execution_count": null,
   "metadata": {},
   "outputs": [],
   "source": [
    "Grove_st_PATH_end = df_master['end station name'] == 'Grove St PATH' #creates filter by station name\n",
    "#print(Grove_st_PATH_end.head())\n",
    "\n",
    "Grove_st_PATH_end = df_master[Grove_st_PATH_end] #applies filter to the df \n",
    "#(Grove_st_PATH_end)"
   ]
  },
  {
   "cell_type": "code",
   "execution_count": null,
   "metadata": {},
   "outputs": [],
   "source": [
    "fig = px.histogram(Grove_st_PATH_end, x='hour', title='Rides by hour ending at Groves St. PATH', color='usertype')\n",
    "#fig.show()"
   ]
  },
  {
   "cell_type": "markdown",
   "metadata": {},
   "source": [
    "# Groves St. PATH \n",
    "\n",
    "Based on the data, we see that most rides <i>end</i> at Groves St. PATH between 7 and 8 AM. Additionally, more rides <i>start</i> from this station in the early evening hours, more specifically between 5 and 7 PM. "
   ]
  },
  {
   "cell_type": "code",
   "execution_count": null,
   "metadata": {},
   "outputs": [],
   "source": [
    "Grove_st_PATH = df_master['start station name'] == 'Grove St PATH' #creates filter by station name\n",
    "#print(Grove_st_PATH.head())\n",
    "\n",
    "Grove_st_PATH = df_master[Grove_st_PATH] #applies filter to the df \n",
    "(Grove_st_PATH.shape)\n",
    "#(Grove_st_PATH)\n",
    "\n",
    "Month = Grove_st_PATH['month'] == 'July' #creates filter by month, in this case we filtered out only values from July, 2019\n",
    "#print(Grove_st_PATH.head())\n",
    "\n",
    "Month = Grove_st_PATH[Month] #applies month filter to the df \n",
    "(Month.shape)\n",
    "(Month)\n",
    "\n",
    "dayofweek = Month['weekday'] == 'Wednesday' #creates filter by random weekday, in this case we filtered to Wednesday\n",
    "#print(Grove_st_PATH.head())\n",
    "\n",
    "dayofweek = Month[dayofweek] #applies weekday filter to the df \n",
    "\n",
    "df719 = dayofweek\n",
    "\n",
    "#(df719)"
   ]
  },
  {
   "cell_type": "code",
   "execution_count": null,
   "metadata": {},
   "outputs": [],
   "source": [
    "#Group by our data. Below we have the total number of trips taken on Wednesdays of July 2019 grouped by hour of the day.\n",
    "\n",
    "df719 = df719.groupby(['start station name', 'hour']).size().reset_index(name = 'number of trips')\n",
    "\n",
    "df719 = df719.sort_values('number of trips', ascending=False)\n",
    "df719 = (df719.reset_index())\n",
    "df719"
   ]
  },
  {
   "cell_type": "code",
   "execution_count": null,
   "metadata": {},
   "outputs": [],
   "source": [
    "df720 = dayofweek.groupby(['start station name', 'hour']).size().reset_index(name = 'number of trips')\n",
    "\n",
    "df720 = station1.sort_values('number of trips', ascending=False)\n",
    "df720 = (station1_desc.reset_index())\n",
    "df720"
   ]
  },
  {
   "cell_type": "markdown",
   "metadata": {},
   "source": [
    "# Linear vs. Non-Linear Regressions\n",
    "\n",
    "The problem we are interested in solving is having the right amount of bikes, at the right time, at the right place. For this we decided to apply regression models such as Decistion Tree and Random Forest, as well as Ordinary Least Squares (OLS) to see which regression model would help us predict the needs of Citi Bikes users more accurately. \n",
    "\n",
    "The scatter plot below shows filtered trips taken from a specific station (Grove St. PATH) on every Wednesday of July 2019. Our X variable is time (hour of the day) and we are trying to predict Y, which is the number of bikes needed for the month of July 2020."
   ]
  },
  {
   "cell_type": "markdown",
   "metadata": {},
   "source": [
    "# Forecast vs. Actual number of rides taken in July 2020 (OLS)\n",
    "\n",
    "Below we see an R-squared of 0.191 which means our data can explain only 19% the increase in Y based on X, that is only 19% of rides taken are due to an increase in the hour of the day. We also see that the linear model predicts that Citi Bike will see an increase in ridership by every hour that passes which we know not to be entirely accurate as less people ride during the late hours of the night. \n",
    "\n",
    "The first scatter plot shows the filtered data for July 2019 along with the forecast for July 2020, and the second scatter plot shows the actual number of rides taken during July 2020.\n",
    "\n",
    "Unfortunately, due to COVID-19, we can't really expect the forecast to be entirely accurate as trends have shifted from 2019 to 2020 but we tried to control for as many variables as possible. "
   ]
  },
  {
   "cell_type": "code",
   "execution_count": null,
   "metadata": {},
   "outputs": [],
   "source": [
    "X = df719['hour']\n",
    "X = sm.add_constant(X)\n",
    "y = df719['number of trips']\n",
    "OLSmodel = sm.OLS(y, X)\n",
    "OLSmodelResult = OLSmodel.fit()\n",
    "OLSmodelResult.summary()"
   ]
  },
  {
   "cell_type": "code",
   "execution_count": null,
   "metadata": {},
   "outputs": [],
   "source": [
    "import plotly.express as px\n",
    "\n",
    "fig = px.scatter(df719, x='hour', y=\"number of trips\", trendline=\"ols\", title='July 2019 data and forecast')\n",
    "fig.show()\n",
    "\n",
    "fig = px.scatter(df720, x='hour', y=\"number of trips\", trendline=\"auto\", title='July 2020 actual data')\n",
    "fig.show()"
   ]
  },
  {
   "cell_type": "markdown",
   "metadata": {},
   "source": [
    "# Decision Tree and Random Forest\n",
    "\n",
    "Below we make an attempt at understanding what a Decision Tree and Random Forest is, and how it works. Even though the numbers seem pretty strong, we are not completely sure on what they help us predict. The example we followed can be found at https://www.pluralsight.com/guides/non-linear-regression-trees-scikit-learn and it's their code entirely. "
   ]
  },
  {
   "cell_type": "code",
   "execution_count": null,
   "metadata": {},
   "outputs": [],
   "source": [
    "target_column = ['number of trips'] \n",
    "predictors = ['hour']\n",
    "df719[predictors] = df719[predictors]/df719[predictors].max()\n",
    "station1.describe()"
   ]
  },
  {
   "cell_type": "code",
   "execution_count": null,
   "metadata": {},
   "outputs": [],
   "source": [
    "X = df719[predictors].values\n",
    "y = df719[target_column].values\n",
    "\n",
    "X_train, X_test, y_train, y_test = train_test_split(X, y, test_size=0.30, random_state=40)\n",
    "print(X_train.shape); print(X_test.shape)"
   ]
  },
  {
   "cell_type": "code",
   "execution_count": null,
   "metadata": {},
   "outputs": [],
   "source": [
    "dtree = DecisionTreeRegressor(max_depth=8, min_samples_leaf=0.13, random_state=3)\n",
    "\n",
    "dtree.fit(X_train, y_train)"
   ]
  },
  {
   "cell_type": "code",
   "execution_count": null,
   "metadata": {},
   "outputs": [],
   "source": [
    "# Code lines 1 to 3\n",
    "pred_train_tree= dtree.predict(X_train)\n",
    "print('RMSE for Train Data', (np.sqrt(mean_squared_error(y_train,pred_train_tree))))\n",
    "print('R Squared for Train Data', (r2_score(y_train, pred_train_tree)))\n",
    "\n",
    "# Code lines 4 to 6\n",
    "pred_test_tree= dtree.predict(X_test)\n",
    "print('RMSE for Test Data', (np.sqrt(mean_squared_error(y_test,pred_test_tree))))\n",
    "print('R Squared for Test Data', (r2_score(y_test, pred_test_tree)))"
   ]
  },
  {
   "cell_type": "code",
   "execution_count": null,
   "metadata": {},
   "outputs": [],
   "source": [
    "# Code Lines 1 to 4: Fit the regression tree 'dtree1' and 'dtree2' \n",
    "dtree1 = DecisionTreeRegressor(max_depth=2)\n",
    "dtree2 = DecisionTreeRegressor(max_depth=5)\n",
    "dtree1.fit(X_train, y_train)\n",
    "dtree2.fit(X_train, y_train)\n",
    "\n",
    "# Code Lines 5 to 6: Predict on training data\n",
    "tr1 = dtree1.predict(X_train)\n",
    "tr2 = dtree2.predict(X_train) \n",
    "\n",
    "#Code Lines 7 to 8: Predict on testing data\n",
    "y1 = dtree1.predict(X_test)\n",
    "y2 = dtree2.predict(X_test) "
   ]
  },
  {
   "cell_type": "code",
   "execution_count": null,
   "metadata": {},
   "outputs": [],
   "source": [
    "# Print RMSE and R-squared value for regression tree 'dtree1' on training data\n",
    "print(np.sqrt(mean_squared_error(y_train,tr1))) \n",
    "print(r2_score(y_train, tr1))\n",
    "\n",
    "# Print RMSE and R-squared value for regression tree 'dtree1' on testing data\n",
    "print(np.sqrt(mean_squared_error(y_test,y1))) \n",
    "print(r2_score(y_test, y1)) "
   ]
  },
  {
   "cell_type": "code",
   "execution_count": null,
   "metadata": {},
   "outputs": [],
   "source": [
    "# Print RMSE and R-squared value for regression tree 'dtree2' on training data\n",
    "print(np.sqrt(mean_squared_error(y_train,tr2))) \n",
    "print(r2_score(y_train, tr2))\n",
    "\n",
    "# Print RMSE and R-squared value for regression tree 'dtree2' on testing data\n",
    "print(np.sqrt(mean_squared_error(y_test,y2))) \n",
    "print(r2_score(y_test, y2)) "
   ]
  },
  {
   "cell_type": "code",
   "execution_count": null,
   "metadata": {},
   "outputs": [],
   "source": [
    "#RF model\n",
    "model_rf = RandomForestRegressor(n_estimators=500, oob_score=True, random_state=100)\n",
    "model_rf.fit(X_train, y_train) \n",
    "pred_train_rf= model_rf.predict(X_train)\n",
    "print(np.sqrt(mean_squared_error(y_train,pred_train_rf)))\n",
    "print(r2_score(y_train, pred_train_rf))\n",
    "\n",
    "pred_test_rf = model_rf.predict(X_test)\n",
    "print(np.sqrt(mean_squared_error(y_test,pred_test_rf)))\n",
    "print(r2_score(y_test, pred_test_rf))"
   ]
  },
  {
   "cell_type": "markdown",
   "metadata": {},
   "source": [
    "# Forecast vs. Actual number of rides taken in July 2020 (Non-Linear Regression)\n",
    "\n",
    "We found that the number of rides decreased in July 2020 to 36% of the total number of rides in July 2019. However, the non-linear regression and trendline were surprisingly accurate, particularly in the early hours of the evening. "
   ]
  },
  {
   "cell_type": "code",
   "execution_count": null,
   "metadata": {},
   "outputs": [],
   "source": [
    "fig = px.scatter(df719, x='hour', y=\"number of trips\", trendline=\"lowess\", title='July 2019 data with forecast')\n",
    "fig.show()\n",
    "\n",
    "fig = px.scatter(df720, x='hour', y=\"number of trips\", trendline=\"auto\", title='Actual number of rides taken, July 2020')\n",
    "fig.show()"
   ]
  },
  {
   "cell_type": "markdown",
   "metadata": {},
   "source": [
    "# Conclusion and Next Steps\n",
    "\n",
    "With this analysis, we were able to understand the different patterns of Citi Bike ridership in Jersey City. We realized that the users that ride the most are male subscribers and that the median age for the entire dataset population is 1984. This data is considering an extensive amount of rides where the age is erroneous as riders are skeptical of sharing their actual age to Citi Bike, however, their trip information is valuable for the rest of the project. \n",
    "\n",
    "With this analysis, we also were able to draw preliminary conclusions due to ridership patterns in specific months, days, and hours, and determined that it is likely that most rides are as part of a daily commute during the weekdays and perhaps more recreational over the weekends. \n",
    "\n",
    "We also noted which stations are used the most to start and end a trip. We believe this information to be important as it can have a direct impact on bike availability and increased customer satisfaction. We also believe that failing to pay attention to these details could negatively impact revenue and profitability of Citi Bike. \n",
    "\n",
    "From an inferential statistics standpoint, we find that the nature of our data is not linear and the best way to predict would be to use non-linear regressions which unfortunately are out of scope for us at this moment. We see that the non-linear trendline is much more accurate during the early hours of the day/evening but the late hours of the night aren't quite at the same level of accuracy. A preliminary thought is this may be due to COVID-19 and the change in behavior we mentioned earlier, such as the decreased need to be out late at night at bars or coming back from the office or school. \n",
    "\n",
    "As noted throughtout the analysis, the next steps we would be interested in looking at to further develop this project would be the following: \n",
    "\n",
    ">-Analyze the revenue drivers of Citi Bike to further understand what kind of financial implications different marketing decisions would create<br>\n",
    "<br>\n",
    "-How April 2020 was different for Citi Bike compared to the same month in previous years, and the impact of COVID-19 in ridership in subsequent months<br>\n",
    "<br>\n",
    "-How does ridership and the future of mobility in NYC and metropolitan area shifts post-pandemic. Would people be more interested in biking to work if infrastructure was improved as it may be safer than a subway train during a public health contingency?, what would happen if people work from home more often and need Citi Bike less?<br></b>"
   ]
  },
  {
   "cell_type": "code",
   "execution_count": null,
   "metadata": {
    "scrolled": false
   },
   "outputs": [],
   "source": [
    "#Adding month of July 2020 \n",
    "\n",
    "df720 = pd.read_csv('0720.csv')\n"
   ]
  },
  {
   "cell_type": "code",
   "execution_count": null,
   "metadata": {},
   "outputs": [],
   "source": [
    "df720['starttime'] = pd.to_datetime(df720['starttime'])\n",
    "\n",
    "weekday = df720['starttime'].dt.day_name()\n",
    "df720['weekday'] = weekday\n",
    "\n",
    "hour = df720['starttime'].dt.hour\n",
    "df720['hour'] = hour\n"
   ]
  },
  {
   "cell_type": "code",
   "execution_count": null,
   "metadata": {
    "scrolled": false
   },
   "outputs": [],
   "source": [
    "Grove_st_PATH20 = df720['start station name'] == 'Grove St PATH' #creates filter by station name\n",
    "#print(Grove_st_PATH.head())\n",
    "\n",
    "Grove_st_PATH20 = df720[Grove_st_PATH20] #applies filter to the df \n",
    "(Grove_st_PATH20)\n",
    "\n",
    "dayofweek20 = Grove_st_PATH20['weekday'] == 'Wednesday' #creates filter by random weekday, in this case we filtered to Wednesday\n",
    "\n",
    "dayofweek20 = Grove_st_PATH20[dayofweek20] #applies weekday filter to the df \n",
    "(dayofweek20)\n",
    "\n",
    "df720 = dayofweek20\n"
   ]
  },
  {
   "cell_type": "code",
   "execution_count": null,
   "metadata": {},
   "outputs": [],
   "source": [
    "#X = df720['hour']\n",
    "#X = sm.add_constant(X)\n",
    "#y = df720['number of trips']\n",
    "#OLSmodel = sm.OLS(y, X)\n",
    "#OLSmodelResult = OLSmodel.fit()\n",
    "#OLSmodelResult.summary()"
   ]
  }
 ],
 "metadata": {
  "kernelspec": {
   "display_name": "Python 3",
   "language": "python",
   "name": "python3"
  },
  "language_info": {
   "codemirror_mode": {
    "name": "ipython",
    "version": 3
   },
   "file_extension": ".py",
   "mimetype": "text/x-python",
   "name": "python",
   "nbconvert_exporter": "python",
   "pygments_lexer": "ipython3",
   "version": "3.8.3"
  }
 },
 "nbformat": 4,
 "nbformat_minor": 4
}
